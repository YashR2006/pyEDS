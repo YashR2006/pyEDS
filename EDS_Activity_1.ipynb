{
  "nbformat": 4,
  "nbformat_minor": 0,
  "metadata": {
    "colab": {
      "provenance": [],
      "authorship_tag": "ABX9TyOj3W0HuJgvPnL3q0IJvvt8",
      "include_colab_link": true
    },
    "kernelspec": {
      "name": "python3",
      "display_name": "Python 3"
    },
    "language_info": {
      "name": "python"
    }
  },
  "cells": [
    {
      "cell_type": "markdown",
      "metadata": {
        "id": "view-in-github",
        "colab_type": "text"
      },
      "source": [
        "<a href=\"https://colab.research.google.com/github/YashR2006/pyEDS/blob/main/EDS_Activity_1.ipynb\" target=\"_parent\"><img src=\"https://colab.research.google.com/assets/colab-badge.svg\" alt=\"Open In Colab\"/></a>"
      ]
    },
    {
      "cell_type": "markdown",
      "source": [
        "Q1: Country with highest confirmed cases"
      ],
      "metadata": {
        "id": "-dht2tdclavX"
      }
    },
    {
      "cell_type": "code",
      "source": [
        "import pandas as pd\n",
        "import numpy as np\n",
        "\n",
        "df = pd.read_csv(\"country_wise_latest.csv\")\n",
        "\n",
        "\n",
        "df.columns = df.columns.str.strip().str.replace(' ', '_').str.replace('/', '_')\n",
        "\n",
        "q1 = df.loc[df['Confirmed'].idxmax(), ['Country_Region', 'Confirmed']]"
      ],
      "metadata": {
        "id": "aUKeIrfXljr_"
      },
      "execution_count": null,
      "outputs": []
    },
    {
      "cell_type": "markdown",
      "source": [
        "Q2: Average death rate per WHO Region"
      ],
      "metadata": {
        "id": "v50Z3HNBpGKb"
      }
    },
    {
      "cell_type": "code",
      "source": [
        "import pandas as pd\n",
        "import numpy as np\n",
        "\n",
        "df = pd.read_csv(\"country_wise_latest.csv\")\n",
        "\n",
        "df.columns = df.columns.str.strip().str.replace(' ', '_').str.replace('/', '_')\n",
        "q2 = df.groupby('WHO_Region')['Deaths___100_Cases'].mean()"
      ],
      "metadata": {
        "id": "ewaJfyahpMk8"
      },
      "execution_count": null,
      "outputs": []
    },
    {
      "cell_type": "markdown",
      "source": [
        "Q3: Top 5 countries by recovery rate"
      ],
      "metadata": {
        "id": "_OUK1wWOqqPV"
      }
    },
    {
      "cell_type": "code",
      "source": [
        "import pandas as pd\n",
        "import numpy as np\n",
        "\n",
        "df = pd.read_csv(\"country_wise_latest.csv\")\n",
        "\n",
        "df.columns = df.columns.str.strip().str.replace(' ', '_').str.replace('/', '_')\n",
        "q3 = df[['Country_Region', 'Recovered___100_Cases']].sort_values(by='Recovered___100_Cases', ascending=False).head(5)"
      ],
      "metadata": {
        "id": "UsaMfWEeq5uX"
      },
      "execution_count": null,
      "outputs": []
    },
    {
      "cell_type": "markdown",
      "source": [
        "Q4: Total active cases globally"
      ],
      "metadata": {
        "id": "pZEdwYoqB-jx"
      }
    },
    {
      "cell_type": "code",
      "source": [
        "q4 = df['Active'].sum()"
      ],
      "metadata": {
        "id": "de4seP6ICEhH"
      },
      "execution_count": null,
      "outputs": []
    },
    {
      "cell_type": "markdown",
      "source": [
        "Q5: Country with highest new cases"
      ],
      "metadata": {
        "id": "_hGN2__VCN2I"
      }
    },
    {
      "cell_type": "code",
      "source": [
        "q5 = df.loc[df['New_cases'].idxmax(), ['Country_Region', 'New_cases']]"
      ],
      "metadata": {
        "id": "oFY2aL_9CSkv"
      },
      "execution_count": null,
      "outputs": []
    },
    {
      "cell_type": "markdown",
      "source": [
        "Q6: Country with highest weekly increase"
      ],
      "metadata": {
        "id": "0n8uYEAQCXn-"
      }
    },
    {
      "cell_type": "code",
      "source": [
        "q6 = df.loc[df['1_week_change'].idxmax(), ['Country_Region', '1_week_change']]"
      ],
      "metadata": {
        "id": "xtRELFJFCbPq"
      },
      "execution_count": null,
      "outputs": []
    },
    {
      "cell_type": "markdown",
      "source": [
        "Q7: Correlation between death and recovery rates"
      ],
      "metadata": {
        "id": "Gq8k6oiSChqy"
      }
    },
    {
      "cell_type": "code",
      "source": [
        "q7 = df[['Deaths___100_Cases', 'Recovered___100_Cases']].corr().iloc[0, 1]"
      ],
      "metadata": {
        "id": "gpzvM_dPCnFi"
      },
      "execution_count": null,
      "outputs": []
    },
    {
      "cell_type": "markdown",
      "source": [
        "Q8: Countries with 0 new deaths and new cases"
      ],
      "metadata": {
        "id": "KSJ_d4CSCuOk"
      }
    },
    {
      "cell_type": "code",
      "source": [
        "q8 = df[(df['New_deaths'] == 0) & (df['New_cases'] == 0)]['Country_Region'].tolist()"
      ],
      "metadata": {
        "id": "P4hSGyA3C3oX"
      },
      "execution_count": null,
      "outputs": []
    },
    {
      "cell_type": "markdown",
      "source": [
        "Q9: Avg 1-week % increase by region"
      ],
      "metadata": {
        "id": "qA-xHxI0DALz"
      }
    },
    {
      "cell_type": "code",
      "source": [
        "q9 = df.groupby('WHO_Region')['1_week_%_increase'].mean()"
      ],
      "metadata": {
        "id": "q_tNnytxDDwB"
      },
      "execution_count": null,
      "outputs": []
    },
    {
      "cell_type": "markdown",
      "source": [
        "Q10: Countries where recovered > active"
      ],
      "metadata": {
        "id": "tqrJxztFDIb-"
      }
    },
    {
      "cell_type": "code",
      "source": [
        "q10 = df[df['Recovered'] > df['Active']]['Country_Region'].tolist()"
      ],
      "metadata": {
        "id": "Hmzf2Na1DL3Q"
      },
      "execution_count": null,
      "outputs": []
    },
    {
      "cell_type": "markdown",
      "source": [
        "Q11: Std deviation of active cases"
      ],
      "metadata": {
        "id": "YFKWj8ASDPv5"
      }
    },
    {
      "cell_type": "code",
      "source": [
        "q11 = df['Active'].std()"
      ],
      "metadata": {
        "id": "N7u6ARyRDTMF"
      },
      "execution_count": null,
      "outputs": []
    },
    {
      "cell_type": "markdown",
      "source": [
        "Q12: WHO region with most confirmed cases"
      ],
      "metadata": {
        "id": "IeL-WqjhDXL9"
      }
    },
    {
      "cell_type": "code",
      "source": [
        "region_confirmed = df.groupby('WHO_Region')['Confirmed'].sum()\n",
        "q12 = (region_confirmed.idxmax(), region_confirmed.max())"
      ],
      "metadata": {
        "id": "HdHdBeuGDgBF"
      },
      "execution_count": null,
      "outputs": []
    },
    {
      "cell_type": "markdown",
      "source": [
        "Q13: Countries where death rate > 5%"
      ],
      "metadata": {
        "id": "h1UR8eWEDmvb"
      }
    },
    {
      "cell_type": "code",
      "source": [
        "q13 = df[df['Deaths___100_Cases'] > 5]['Country_Region'].tolist()"
      ],
      "metadata": {
        "id": "cN-0lOkTDqlt"
      },
      "execution_count": null,
      "outputs": []
    },
    {
      "cell_type": "markdown",
      "source": [
        "Q14: Countries with decrease in confirmed cases"
      ],
      "metadata": {
        "id": "KE5q2FRpDwfH"
      }
    },
    {
      "cell_type": "code",
      "source": [
        "q14 = df[df['1_week_change'] < 0]['Country_Region'].tolist()"
      ],
      "metadata": {
        "id": "E28A9204Dz1H"
      },
      "execution_count": null,
      "outputs": []
    },
    {
      "cell_type": "markdown",
      "source": [
        "Q15: Median of new deaths"
      ],
      "metadata": {
        "id": "_JUqbdTUD4QT"
      }
    },
    {
      "cell_type": "code",
      "source": [
        "q15 = df['New_deaths'].median()"
      ],
      "metadata": {
        "id": "IkH6F2PjD8Ls"
      },
      "execution_count": null,
      "outputs": []
    },
    {
      "cell_type": "markdown",
      "source": [
        "Q16: Country with highest death/recovered rate"
      ],
      "metadata": {
        "id": "xLO_DNR8EA3M"
      }
    },
    {
      "cell_type": "code",
      "source": [
        "q16 = df.loc[df['Deaths___100_Recovered'].idxmax(), ['Country_Region', 'Deaths___100_Recovered']]"
      ],
      "metadata": {
        "id": "4gPk7yP3EGqV"
      },
      "execution_count": null,
      "outputs": []
    },
    {
      "cell_type": "markdown",
      "source": [
        "Q17: Lowest recovery rate (>10k cases)"
      ],
      "metadata": {
        "id": "H3siEEEkEL4U"
      }
    },
    {
      "cell_type": "code",
      "source": [
        "high_cases = df[df['Confirmed'] > 10000]\n",
        "q17 = high_cases.loc[high_cases['Recovered___100_Cases'].idxmin(), ['Country_Region', 'Recovered___100_Cases']]"
      ],
      "metadata": {
        "id": "b1F0hYpgEP9n"
      },
      "execution_count": null,
      "outputs": []
    },
    {
      "cell_type": "markdown",
      "source": [
        "Q18: Countries with >20% increase"
      ],
      "metadata": {
        "id": "8MDyGVMSEVtA"
      }
    },
    {
      "cell_type": "code",
      "source": [
        "q18 = df[df['1_week_%_increase'] > 20]['Country_Region'].tolist()"
      ],
      "metadata": {
        "id": "R0mVciKJEZs1"
      },
      "execution_count": null,
      "outputs": []
    },
    {
      "cell_type": "markdown",
      "source": [
        "Q19: Avg active cases by region"
      ],
      "metadata": {
        "id": "H94-NwvDEfmS"
      }
    },
    {
      "cell_type": "code",
      "source": [
        "q19 = df.groupby('WHO_Region')['Active'].mean().sort_values(ascending=False)"
      ],
      "metadata": {
        "id": "OnYkslb_EjAd"
      },
      "execution_count": null,
      "outputs": []
    },
    {
      "cell_type": "markdown",
      "source": [
        "Q20: Weekly change >500 and % increase <5%"
      ],
      "metadata": {
        "id": "im1QDGJoEpEX"
      }
    },
    {
      "cell_type": "code",
      "source": [
        "q20 = df[(df['1_week_change'] > 500) & (df['1_week_%_increase'] < 5)]['Country_Region'].tolist()"
      ],
      "metadata": {
        "id": "5w3UUprKEsze"
      },
      "execution_count": null,
      "outputs": []
    },
    {
      "source": [
        "# Collect and print all results\n",
        "solutions = {\n",
        "    \"Q1\": q1,\n",
        "    \"Q2\": q2,\n",
        "    \"Q3\": q3,\n",
        "    \"Q4\": q4,\n",
        "    \"Q5\": q5,\n",
        "    \"Q6\": q6,\n",
        "    \"Q7\": q7,\n",
        "    \"Q8\": q8,\n",
        "    \"Q9\": q9,\n",
        "    \"Q10\": q10,\n",
        "    \"Q11\": q11,\n",
        "    \"Q12\": q12,\n",
        "    \"Q13\": q13,\n",
        "    \"Q14\": q14,\n",
        "    \"Q15\": q15,\n",
        "    \"Q16\": q16,\n",
        "    \"Q17\": q17,\n",
        "    \"Q18\": q18,\n",
        "    \"Q19\": q19,\n",
        "    \"Q20\": q20\n",
        "}\n",
        "\n",
        "# Print or export as needed\n",
        "for k, v in solutions.items():\n",
        "    print(f\"\\n{k}:\")\n",
        "    print(v) # Corrected indentation here"
      ],
      "cell_type": "code",
      "metadata": {
        "id": "uKxtwem8HoTR",
        "outputId": "dc3b3fe1-9fbe-47f2-a0d0-16b7964abf0a",
        "colab": {
          "base_uri": "https://localhost:8080/"
        }
      },
      "execution_count": null,
      "outputs": [
        {
          "output_type": "stream",
          "name": "stdout",
          "text": [
            "\n",
            "Q1:\n",
            "Country_Region         US\n",
            "Confirmed         4290259\n",
            "Name: 173, dtype: object\n",
            "\n",
            "Q2:\n",
            "WHO_Region\n",
            "Africa                   2.306458\n",
            "Americas                 3.052571\n",
            "Eastern Mediterranean    3.563182\n",
            "Europe                   4.198393\n",
            "South-East Asia          1.296000\n",
            "Western Pacific          1.290000\n",
            "Name: Deaths___100_Cases, dtype: float64\n",
            "\n",
            "Q3:\n",
            "   Country_Region  Recovered___100_Cases\n",
            "49       Dominica                 100.00\n",
            "75       Holy See                 100.00\n",
            "69        Grenada                 100.00\n",
            "48       Djibouti                  98.38\n",
            "78        Iceland                  98.33\n",
            "\n",
            "Q4:\n",
            "6358362\n",
            "\n",
            "Q5:\n",
            "Country_Region       US\n",
            "New_cases         56336\n",
            "Name: 173, dtype: object\n",
            "\n",
            "Q6:\n",
            "Country_Region        US\n",
            "1_week_change     455582\n",
            "Name: 173, dtype: object\n",
            "\n",
            "Q7:\n",
            "-0.1689198170525023\n",
            "\n",
            "Q8:\n",
            "['Barbados', 'Belize', 'Benin', 'Brunei', 'Burma', 'Central African Republic', 'Comoros', 'Dominica', 'Equatorial Guinea', 'Estonia', 'Fiji', 'Grenada', 'Guinea-Bissau', 'Holy See', 'Laos', 'Latvia', 'Lesotho', 'Liechtenstein', 'Mauritius', 'Monaco', 'Nicaragua', 'Niger', 'Papua New Guinea', 'Saint Kitts and Nevis', 'Saint Lucia', 'Saint Vincent and the Grenadines', 'San Marino', 'Seychelles', 'Sierra Leone', 'Spain', 'Tanzania', 'Timor-Leste', 'Western Sahara']\n",
            "\n",
            "Q9:\n",
            "WHO_Region\n",
            "Africa                   18.086458\n",
            "Americas                 16.331143\n",
            "Eastern Mediterranean    10.482273\n",
            "Europe                    7.769643\n",
            "South-East Asia           8.513000\n",
            "Western Pacific          22.111250\n",
            "Name: 1_week_%_increase, dtype: float64\n",
            "\n",
            "Q10:\n",
            "['Afghanistan', 'Albania', 'Algeria', 'Andorra', 'Antigua and Barbuda', 'Armenia', 'Australia', 'Austria', 'Azerbaijan', 'Bahrain', 'Bangladesh', 'Barbados', 'Belarus', 'Belize', 'Benin', 'Bhutan', 'Brazil', 'Brunei', 'Bulgaria', 'Burkina Faso', 'Burma', 'Burundi', 'Cabo Verde', 'Cambodia', 'Cameroon', 'Chad', 'Chile', 'China', 'Colombia', 'Comoros', 'Congo (Kinshasa)', \"Cote d'Ivoire\", 'Croatia', 'Cuba', 'Cyprus', 'Czechia', 'Denmark', 'Djibouti', 'Dominica', 'El Salvador', 'Eritrea', 'Estonia', 'Fiji', 'Finland', 'Gabon', 'Georgia', 'Germany', 'Ghana', 'Greenland', 'Grenada', 'Guatemala', 'Guinea', 'Haiti', 'Holy See', 'Hungary', 'Iceland', 'India', 'Indonesia', 'Iran', 'Iraq', 'Ireland', 'Italy', 'Jamaica', 'Japan', 'Jordan', 'Kazakhstan', 'Kosovo', 'Kuwait', 'Kyrgyzstan', 'Laos', 'Latvia', 'Liberia', 'Liechtenstein', 'Lithuania', 'Luxembourg', 'Madagascar', 'Malaysia', 'Maldives', 'Mali', 'Malta', 'Mauritania', 'Mauritius', 'Mexico', 'Moldova', 'Monaco', 'Mongolia', 'Morocco', 'Nepal', 'New Zealand', 'Nicaragua', 'Niger', 'North Macedonia', 'Norway', 'Oman', 'Pakistan', 'Panama', 'Paraguay', 'Peru', 'Poland', 'Portugal', 'Qatar', 'Romania', 'Russia', 'Rwanda', 'Saint Kitts and Nevis', 'Saint Lucia', 'Saint Vincent and the Grenadines', 'San Marino', 'Sao Tome and Principe', 'Saudi Arabia', 'Senegal', 'Sierra Leone', 'Singapore', 'Slovakia', 'Slovenia', 'South Africa', 'South Korea', 'South Sudan', 'Spain', 'Sri Lanka', 'Sudan', 'Suriname', 'Switzerland', 'Taiwan*', 'Tajikistan', 'Thailand', 'Togo', 'Trinidad and Tobago', 'Tunisia', 'Turkey', 'Uganda', 'Ukraine', 'United Arab Emirates', 'Uruguay', 'Uzbekistan', 'Venezuela', 'Vietnam', 'Western Sahara', 'Yemen', 'Zambia']\n",
            "\n",
            "Q11:\n",
            "213326.1733714289\n",
            "\n",
            "Q12:\n",
            "('Americas', 8839286)\n",
            "\n",
            "Q13:\n",
            "['Andorra', 'Barbados', 'Belgium', 'Canada', 'Chad', 'China', 'Ecuador', 'Egypt', 'France', 'Guyana', 'Hungary', 'Iran', 'Ireland', 'Italy', 'Liberia', 'Mexico', 'Netherlands', 'Niger', 'San Marino', 'Slovenia', 'Spain', 'Sudan', 'Sweden', 'Switzerland', 'Syria', 'Trinidad and Tobago', 'United Kingdom', 'Western Sahara', 'Yemen']\n",
            "\n",
            "Q14:\n",
            "['Jordan']\n",
            "\n",
            "Q15:\n",
            "1.0\n",
            "\n",
            "Q16:\n",
            "Country_Region            Canada\n",
            "Deaths___100_Recovered       inf\n",
            "Name: 32, dtype: object\n",
            "\n",
            "Q17:\n",
            "Country_Region           Canada\n",
            "Recovered___100_Cases       0.0\n",
            "Name: 32, dtype: object\n",
            "\n",
            "Q18:\n",
            "['Angola', 'Argentina', 'Australia', 'Bahamas', 'Bosnia and Herzegovina', 'Botswana', 'Cambodia', 'Colombia', 'Costa Rica', 'El Salvador', 'Eswatini', 'Ethiopia', 'Gambia', 'India', 'Israel', 'Japan', 'Kenya', 'Kosovo', 'Kyrgyzstan', 'Lebanon', 'Lesotho', 'Libya', 'Madagascar', 'Malawi', 'Montenegro', 'Namibia', 'Papua New Guinea', 'Paraguay', 'Romania', 'South Africa', 'Suriname', 'Syria', 'Uzbekistan', 'Venezuela', 'Zambia', 'Zimbabwe']\n",
            "\n",
            "Q19:\n",
            "WHO_Region\n",
            "Americas                 115083.942857\n",
            "South-East Asia           63701.500000\n",
            "Europe                    19547.428571\n",
            "Eastern Mediterranean     11409.318182\n",
            "Africa                     5632.062500\n",
            "Western Pacific            4838.062500\n",
            "Name: Active, dtype: float64\n",
            "\n",
            "Q20:\n",
            "['Afghanistan', 'Austria', 'Belarus', 'Belgium', 'Canada', 'Chile', 'China', 'Egypt', 'France', 'Germany', 'Italy', 'Netherlands', 'Pakistan', 'Portugal', 'Qatar', 'Spain', 'Sweden', 'Switzerland', 'Turkey', 'United Arab Emirates', 'United Kingdom']\n"
          ]
        }
      ]
    }
  ]
}